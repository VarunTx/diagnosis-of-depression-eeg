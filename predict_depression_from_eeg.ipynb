{
 "cells": [
  {
   "cell_type": "code",
   "execution_count": 1,
   "id": "ebf0897c-1f6a-47dd-a99e-b118f5150959",
   "metadata": {},
   "outputs": [],
   "source": [
    "import pandas as pd\n",
    "\n",
    "from sklearn.model_selection import train_test_split, cross_val_score, KFold\n",
    "\n",
    "from sklearn.metrics import make_scorer, f1_score\n",
    "\n",
    "from sklearn import svm\n",
    "\n",
    "from sklearn.ensemble import AdaBoostClassifier, RandomForestClassifier\n",
    "\n",
    "import shap\n"
   ]
  },
  {
   "cell_type": "code",
   "execution_count": 2,
   "id": "6079689e-51f0-4395-8654-2bf859a0a317",
   "metadata": {},
   "outputs": [],
   "source": [
    "seed = 42"
   ]
  },
  {
   "cell_type": "markdown",
   "id": "4bcfd830-83e5-4411-b710-2c1f0d7ce577",
   "metadata": {},
   "source": [
    "## Read the Data"
   ]
  },
  {
   "cell_type": "code",
   "execution_count": 3,
   "id": "f163e845-00c5-494a-a5d5-8fefe9931ce3",
   "metadata": {},
   "outputs": [
    {
     "data": {
      "text/html": [
       "<div>\n",
       "<style scoped>\n",
       "    .dataframe tbody tr th:only-of-type {\n",
       "        vertical-align: middle;\n",
       "    }\n",
       "\n",
       "    .dataframe tbody tr th {\n",
       "        vertical-align: top;\n",
       "    }\n",
       "\n",
       "    .dataframe thead th {\n",
       "        text-align: right;\n",
       "    }\n",
       "</style>\n",
       "<table border=\"1\" class=\"dataframe\">\n",
       "  <thead>\n",
       "    <tr style=\"text-align: right;\">\n",
       "      <th></th>\n",
       "      <th>alpha_Channel_1</th>\n",
       "      <th>alpha_Channel_2</th>\n",
       "      <th>alpha_Channel_3</th>\n",
       "      <th>alpha_Channel_4</th>\n",
       "      <th>alpha_Channel_5</th>\n",
       "      <th>beta_Channel_1</th>\n",
       "      <th>beta_Channel_2</th>\n",
       "      <th>beta_Channel_3</th>\n",
       "      <th>beta_Channel_4</th>\n",
       "      <th>beta_Channel_5</th>\n",
       "      <th>...</th>\n",
       "      <th>health_condition_dementia</th>\n",
       "      <th>health_condition_diabetes</th>\n",
       "      <th>health_condition_heart attack</th>\n",
       "      <th>health_condition_marijuana</th>\n",
       "      <th>health_condition_ms</th>\n",
       "      <th>health_condition_nan</th>\n",
       "      <th>health_condition_none</th>\n",
       "      <th>health_condition_ocd</th>\n",
       "      <th>health_condition_schizophrenia</th>\n",
       "      <th>health_condition_unknown</th>\n",
       "    </tr>\n",
       "  </thead>\n",
       "  <tbody>\n",
       "    <tr>\n",
       "      <th>0</th>\n",
       "      <td>3.021524</td>\n",
       "      <td>1.396534</td>\n",
       "      <td>0.058007</td>\n",
       "      <td>0.126120</td>\n",
       "      <td>0.943253</td>\n",
       "      <td>1.697809</td>\n",
       "      <td>0.449966</td>\n",
       "      <td>0.448933</td>\n",
       "      <td>0.042286</td>\n",
       "      <td>0.503213</td>\n",
       "      <td>...</td>\n",
       "      <td>0</td>\n",
       "      <td>0</td>\n",
       "      <td>0</td>\n",
       "      <td>0</td>\n",
       "      <td>0</td>\n",
       "      <td>1</td>\n",
       "      <td>0</td>\n",
       "      <td>0</td>\n",
       "      <td>0</td>\n",
       "      <td>0</td>\n",
       "    </tr>\n",
       "    <tr>\n",
       "      <th>1</th>\n",
       "      <td>1.468518</td>\n",
       "      <td>1.367280</td>\n",
       "      <td>0.195930</td>\n",
       "      <td>0.273963</td>\n",
       "      <td>1.305134</td>\n",
       "      <td>0.679067</td>\n",
       "      <td>2.827446</td>\n",
       "      <td>3.364760</td>\n",
       "      <td>0.346790</td>\n",
       "      <td>0.202916</td>\n",
       "      <td>...</td>\n",
       "      <td>0</td>\n",
       "      <td>0</td>\n",
       "      <td>0</td>\n",
       "      <td>0</td>\n",
       "      <td>0</td>\n",
       "      <td>1</td>\n",
       "      <td>0</td>\n",
       "      <td>0</td>\n",
       "      <td>0</td>\n",
       "      <td>0</td>\n",
       "    </tr>\n",
       "    <tr>\n",
       "      <th>2</th>\n",
       "      <td>0.985983</td>\n",
       "      <td>1.177478</td>\n",
       "      <td>0.036685</td>\n",
       "      <td>0.289934</td>\n",
       "      <td>0.189099</td>\n",
       "      <td>0.137623</td>\n",
       "      <td>0.468998</td>\n",
       "      <td>3.133384</td>\n",
       "      <td>0.882983</td>\n",
       "      <td>1.953640</td>\n",
       "      <td>...</td>\n",
       "      <td>0</td>\n",
       "      <td>0</td>\n",
       "      <td>0</td>\n",
       "      <td>0</td>\n",
       "      <td>0</td>\n",
       "      <td>0</td>\n",
       "      <td>1</td>\n",
       "      <td>0</td>\n",
       "      <td>0</td>\n",
       "      <td>0</td>\n",
       "    </tr>\n",
       "    <tr>\n",
       "      <th>3</th>\n",
       "      <td>4.738183</td>\n",
       "      <td>0.139540</td>\n",
       "      <td>0.236183</td>\n",
       "      <td>0.789740</td>\n",
       "      <td>0.163361</td>\n",
       "      <td>0.707772</td>\n",
       "      <td>0.793514</td>\n",
       "      <td>2.799493</td>\n",
       "      <td>1.562262</td>\n",
       "      <td>0.158909</td>\n",
       "      <td>...</td>\n",
       "      <td>0</td>\n",
       "      <td>0</td>\n",
       "      <td>0</td>\n",
       "      <td>0</td>\n",
       "      <td>0</td>\n",
       "      <td>0</td>\n",
       "      <td>1</td>\n",
       "      <td>0</td>\n",
       "      <td>0</td>\n",
       "      <td>0</td>\n",
       "    </tr>\n",
       "    <tr>\n",
       "      <th>4</th>\n",
       "      <td>0.975364</td>\n",
       "      <td>1.393986</td>\n",
       "      <td>0.661216</td>\n",
       "      <td>0.028347</td>\n",
       "      <td>0.372354</td>\n",
       "      <td>1.112621</td>\n",
       "      <td>3.872213</td>\n",
       "      <td>1.441918</td>\n",
       "      <td>0.827960</td>\n",
       "      <td>1.879537</td>\n",
       "      <td>...</td>\n",
       "      <td>0</td>\n",
       "      <td>1</td>\n",
       "      <td>0</td>\n",
       "      <td>0</td>\n",
       "      <td>0</td>\n",
       "      <td>0</td>\n",
       "      <td>0</td>\n",
       "      <td>0</td>\n",
       "      <td>0</td>\n",
       "      <td>0</td>\n",
       "    </tr>\n",
       "  </tbody>\n",
       "</table>\n",
       "<p>5 rows × 118 columns</p>\n",
       "</div>"
      ],
      "text/plain": [
       "   alpha_Channel_1  alpha_Channel_2  alpha_Channel_3  alpha_Channel_4  \\\n",
       "0         3.021524         1.396534         0.058007         0.126120   \n",
       "1         1.468518         1.367280         0.195930         0.273963   \n",
       "2         0.985983         1.177478         0.036685         0.289934   \n",
       "3         4.738183         0.139540         0.236183         0.789740   \n",
       "4         0.975364         1.393986         0.661216         0.028347   \n",
       "\n",
       "   alpha_Channel_5  beta_Channel_1  beta_Channel_2  beta_Channel_3  \\\n",
       "0         0.943253        1.697809        0.449966        0.448933   \n",
       "1         1.305134        0.679067        2.827446        3.364760   \n",
       "2         0.189099        0.137623        0.468998        3.133384   \n",
       "3         0.163361        0.707772        0.793514        2.799493   \n",
       "4         0.372354        1.112621        3.872213        1.441918   \n",
       "\n",
       "   beta_Channel_4  beta_Channel_5  ...  health_condition_dementia  \\\n",
       "0        0.042286        0.503213  ...                          0   \n",
       "1        0.346790        0.202916  ...                          0   \n",
       "2        0.882983        1.953640  ...                          0   \n",
       "3        1.562262        0.158909  ...                          0   \n",
       "4        0.827960        1.879537  ...                          0   \n",
       "\n",
       "   health_condition_diabetes  health_condition_heart attack  \\\n",
       "0                          0                              0   \n",
       "1                          0                              0   \n",
       "2                          0                              0   \n",
       "3                          0                              0   \n",
       "4                          1                              0   \n",
       "\n",
       "   health_condition_marijuana  health_condition_ms  health_condition_nan  \\\n",
       "0                           0                    0                     1   \n",
       "1                           0                    0                     1   \n",
       "2                           0                    0                     0   \n",
       "3                           0                    0                     0   \n",
       "4                           0                    0                     0   \n",
       "\n",
       "   health_condition_none  health_condition_ocd  \\\n",
       "0                      0                     0   \n",
       "1                      0                     0   \n",
       "2                      1                     0   \n",
       "3                      1                     0   \n",
       "4                      0                     0   \n",
       "\n",
       "   health_condition_schizophrenia  health_condition_unknown  \n",
       "0                               0                         0  \n",
       "1                               0                         0  \n",
       "2                               0                         0  \n",
       "3                               0                         0  \n",
       "4                               0                         0  \n",
       "\n",
       "[5 rows x 118 columns]"
      ]
     },
     "execution_count": 3,
     "metadata": {},
     "output_type": "execute_result"
    }
   ],
   "source": [
    "X = pd.read_csv('./data/eeg_features.csv')\n",
    "X.head()"
   ]
  },
  {
   "cell_type": "code",
   "execution_count": 4,
   "id": "c2e9187e-a911-48f2-a0fc-94a567e3edcc",
   "metadata": {},
   "outputs": [
    {
     "data": {
      "text/plain": [
       "(220, 118)"
      ]
     },
     "execution_count": 4,
     "metadata": {},
     "output_type": "execute_result"
    }
   ],
   "source": [
    "X.shape"
   ]
  },
  {
   "cell_type": "code",
   "execution_count": 5,
   "id": "914329e9-4fb1-4ddc-8589-84ee9dfcb859",
   "metadata": {},
   "outputs": [
    {
     "data": {
      "text/html": [
       "<div>\n",
       "<style scoped>\n",
       "    .dataframe tbody tr th:only-of-type {\n",
       "        vertical-align: middle;\n",
       "    }\n",
       "\n",
       "    .dataframe tbody tr th {\n",
       "        vertical-align: top;\n",
       "    }\n",
       "\n",
       "    .dataframe thead th {\n",
       "        text-align: right;\n",
       "    }\n",
       "</style>\n",
       "<table border=\"1\" class=\"dataframe\">\n",
       "  <thead>\n",
       "    <tr style=\"text-align: right;\">\n",
       "      <th></th>\n",
       "      <th>has_depression</th>\n",
       "    </tr>\n",
       "  </thead>\n",
       "  <tbody>\n",
       "    <tr>\n",
       "      <th>39</th>\n",
       "      <td>1</td>\n",
       "    </tr>\n",
       "    <tr>\n",
       "      <th>208</th>\n",
       "      <td>1</td>\n",
       "    </tr>\n",
       "    <tr>\n",
       "      <th>161</th>\n",
       "      <td>0</td>\n",
       "    </tr>\n",
       "    <tr>\n",
       "      <th>184</th>\n",
       "      <td>0</td>\n",
       "    </tr>\n",
       "    <tr>\n",
       "      <th>62</th>\n",
       "      <td>0</td>\n",
       "    </tr>\n",
       "    <tr>\n",
       "      <th>73</th>\n",
       "      <td>0</td>\n",
       "    </tr>\n",
       "    <tr>\n",
       "      <th>46</th>\n",
       "      <td>1</td>\n",
       "    </tr>\n",
       "    <tr>\n",
       "      <th>174</th>\n",
       "      <td>1</td>\n",
       "    </tr>\n",
       "    <tr>\n",
       "      <th>168</th>\n",
       "      <td>0</td>\n",
       "    </tr>\n",
       "    <tr>\n",
       "      <th>78</th>\n",
       "      <td>1</td>\n",
       "    </tr>\n",
       "  </tbody>\n",
       "</table>\n",
       "</div>"
      ],
      "text/plain": [
       "     has_depression\n",
       "39                1\n",
       "208               1\n",
       "161               0\n",
       "184               0\n",
       "62                0\n",
       "73                0\n",
       "46                1\n",
       "174               1\n",
       "168               0\n",
       "78                1"
      ]
     },
     "execution_count": 5,
     "metadata": {},
     "output_type": "execute_result"
    }
   ],
   "source": [
    "y = pd.read_csv('./data/eeg_depression_target.csv')\n",
    "y.sample(10)"
   ]
  },
  {
   "cell_type": "code",
   "execution_count": 6,
   "id": "1c4b0564-6a3b-4a59-ae43-5672368c9208",
   "metadata": {},
   "outputs": [],
   "source": [
    "f1_scorer = make_scorer(f1_score)"
   ]
  },
  {
   "cell_type": "markdown",
   "id": "46bd533b-5dd9-4a2b-8d40-f932a1f6bbe8",
   "metadata": {},
   "source": [
    "## Train & Evaluate Different Models"
   ]
  },
  {
   "cell_type": "markdown",
   "id": "b68fc75a-bbb0-4ffc-8aa5-c434706590c3",
   "metadata": {},
   "source": [
    "### Support Vector Classifier"
   ]
  },
  {
   "cell_type": "markdown",
   "id": "7d770b86-a3b6-492b-add1-f6d23ff19d66",
   "metadata": {},
   "source": [
    "#### Linear Kernel"
   ]
  },
  {
   "cell_type": "code",
   "execution_count": 7,
   "id": "6bba4985-738d-4e58-a204-e86254ea868d",
   "metadata": {},
   "outputs": [
    {
     "data": {
      "text/plain": [
       "0.8858156748911465"
      ]
     },
     "execution_count": 7,
     "metadata": {},
     "output_type": "execute_result"
    }
   ],
   "source": [
    "clf = svm.SVC(kernel='linear', C=1, random_state=42)\n",
    "scores = cross_val_score(clf, X, y.values.reshape(y.shape[0],), cv=5, scoring=f1_scorer)\n",
    "scores.mean()"
   ]
  },
  {
   "cell_type": "markdown",
   "id": "75770f4f-3f04-420d-9e37-3e40772294c3",
   "metadata": {},
   "source": [
    "#### Polynomial Kernel"
   ]
  },
  {
   "cell_type": "code",
   "execution_count": 8,
   "id": "7c4f12ac-f1a0-4605-aa8c-71167853fe73",
   "metadata": {},
   "outputs": [
    {
     "data": {
      "text/plain": [
       "0.8479576355847541"
      ]
     },
     "execution_count": 8,
     "metadata": {},
     "output_type": "execute_result"
    }
   ],
   "source": [
    "clf = svm.SVC(kernel='poly', C=1, random_state=42)\n",
    "scores = cross_val_score(clf, X, y.values.reshape(y.shape[0],), cv=5, scoring=f1_scorer)\n",
    "scores.mean()"
   ]
  },
  {
   "cell_type": "markdown",
   "id": "3145c708-e270-41a5-8775-da9125f2f7a3",
   "metadata": {},
   "source": [
    "#### Linear Kernel"
   ]
  },
  {
   "cell_type": "code",
   "execution_count": 9,
   "id": "a98e17cc-c532-48f5-93d0-bcd41ebaf165",
   "metadata": {},
   "outputs": [
    {
     "data": {
      "text/plain": [
       "0.8565403843891348"
      ]
     },
     "execution_count": 9,
     "metadata": {},
     "output_type": "execute_result"
    }
   ],
   "source": [
    "clf = svm.SVC(kernel='rbf', C=1, random_state=42)\n",
    "scores = cross_val_score(clf, X, y.values.reshape(y.shape[0],), cv=5, scoring=f1_scorer)\n",
    "scores.mean()"
   ]
  },
  {
   "cell_type": "markdown",
   "id": "1a3d44a9-0bb9-48f4-9fcc-8bf4f600b6cb",
   "metadata": {},
   "source": [
    "#### Sigmoid Kernel"
   ]
  },
  {
   "cell_type": "code",
   "execution_count": 10,
   "id": "412beba0-e745-4625-9676-f3c94ee07ba0",
   "metadata": {},
   "outputs": [
    {
     "data": {
      "text/plain": [
       "0.7909368778958124"
      ]
     },
     "execution_count": 10,
     "metadata": {},
     "output_type": "execute_result"
    }
   ],
   "source": [
    "clf = svm.SVC(kernel='sigmoid', C=1, random_state=42)\n",
    "scores = cross_val_score(clf, X, y.values.reshape(y.shape[0],), cv=5, scoring=f1_scorer)\n",
    "scores.mean()"
   ]
  },
  {
   "cell_type": "markdown",
   "id": "3099037a-c392-47fa-b0de-db5b0a701657",
   "metadata": {},
   "source": [
    "### AdaBoost"
   ]
  },
  {
   "cell_type": "code",
   "execution_count": 11,
   "id": "c2f90928-79d0-42b9-97fd-d0369fae4b71",
   "metadata": {},
   "outputs": [
    {
     "name": "stdout",
     "output_type": "stream",
     "text": [
      "1.0\n"
     ]
    }
   ],
   "source": [
    "\n",
    "kfold = KFold(n_splits = 5, random_state = seed, shuffle=True)\n",
    "num_trees = 100\n",
    "max_features = 50\n",
    "ADBclf = AdaBoostClassifier(n_estimators = num_trees)\n",
    "results = cross_val_score(ADBclf, X, y.values.reshape(y.shape[0],), cv = kfold, scoring=f1_scorer)\n",
    "print(results.mean())"
   ]
  },
  {
   "cell_type": "markdown",
   "id": "dec5640f-3593-492e-8f24-b79457c617dd",
   "metadata": {},
   "source": [
    "### Random Forest"
   ]
  },
  {
   "cell_type": "code",
   "execution_count": 12,
   "id": "923203d5-246b-4af8-998e-447c79414887",
   "metadata": {},
   "outputs": [
    {
     "name": "stdout",
     "output_type": "stream",
     "text": [
      "1.0\n"
     ]
    }
   ],
   "source": [
    "num_trees = 100\n",
    "rf_clf = RandomForestClassifier(n_estimators=num_trees)\n",
    "results = cross_val_score(rf_clf, X, y.values.reshape(y.shape[0],), cv = kfold, scoring=f1_scorer)\n",
    "print(results.mean())"
   ]
  },
  {
   "cell_type": "code",
   "execution_count": 13,
   "id": "3319f2e5-0442-4eb6-9773-caf211863920",
   "metadata": {},
   "outputs": [
    {
     "data": {
      "text/plain": [
       "array([1., 1., 1., 1., 1.])"
      ]
     },
     "execution_count": 13,
     "metadata": {},
     "output_type": "execute_result"
    }
   ],
   "source": [
    "results"
   ]
  },
  {
   "cell_type": "markdown",
   "id": "fc80948f-b227-4d2b-ba83-b5740101576b",
   "metadata": {},
   "source": [
    "## Exploring Feature Importance with Random Forests\n",
    "\n",
    " * For starters, let's look at the random forest model. They have a built-in feature importance, which is usually a very good strating point.\n",
    " * We can explore the feature importances and see how much insight we can gain"
   ]
  },
  {
   "cell_type": "code",
   "execution_count": 14,
   "id": "aa1bc529-edf7-477e-bcc4-5b88a7757eab",
   "metadata": {},
   "outputs": [],
   "source": [
    "X_train, X_test, y_train, y_test = train_test_split(X, y.values.reshape(y.shape[0],), \n",
    "                                                    test_size=0.20, random_state=seed)"
   ]
  },
  {
   "cell_type": "code",
   "execution_count": 15,
   "id": "084246b6-5e9f-4be3-a5fa-fce4b1a0952b",
   "metadata": {},
   "outputs": [
    {
     "data": {
      "text/plain": [
       "RandomForestClassifier()"
      ]
     },
     "execution_count": 15,
     "metadata": {},
     "output_type": "execute_result"
    }
   ],
   "source": [
    "rf_clf = RandomForestClassifier(n_estimators=num_trees)\n",
    "rf_clf.fit(X_train, y_train)"
   ]
  },
  {
   "cell_type": "code",
   "execution_count": 16,
   "id": "21840890-cbaf-45f7-ae18-9d6c93839c31",
   "metadata": {},
   "outputs": [
    {
     "data": {
      "text/plain": [
       "array([0.00958464, 0.00222832, 0.00324857, 0.00506   , 0.00541603,\n",
       "       0.00644271, 0.00249037, 0.01465191, 0.00496821, 0.00478189,\n",
       "       0.00463186, 0.00708915, 0.00366966, 0.01534134, 0.00398399,\n",
       "       0.00335233, 0.00181843, 0.00164431, 0.0045234 , 0.0036908 ,\n",
       "       0.00773108, 0.00698244, 0.00304074, 0.00272383, 0.00166988,\n",
       "       0.00404165, 0.00558063, 0.00372031, 0.00636463, 0.00260336,\n",
       "       0.002449  , 0.00581735, 0.00231563, 0.00220307, 0.00423486,\n",
       "       0.00422919, 0.00476587, 0.00230636, 0.00233574, 0.00309483,\n",
       "       0.00134297, 0.00518008, 0.00363701, 0.0045995 , 0.00383857,\n",
       "       0.0025609 , 0.00500725, 0.00425782, 0.00172324, 0.00266137,\n",
       "       0.0057579 , 0.00348269, 0.00277425, 0.01623851, 0.00451281,\n",
       "       0.00265635, 0.00316252, 0.00220504, 0.00313929, 0.00526776,\n",
       "       0.00180853, 0.00303751, 0.00703604, 0.0043109 , 0.00482905,\n",
       "       0.01728254, 0.00176124, 0.00515793, 0.00333369, 0.00244785,\n",
       "       0.00492663, 0.00556824, 0.00331587, 0.00236449, 0.00460752,\n",
       "       0.01289589, 0.00282102, 0.00070987, 0.00328502, 0.00814461,\n",
       "       0.00824832, 0.00219276, 0.0027342 , 0.00444405, 0.00217679,\n",
       "       0.00743037, 0.00533468, 0.00346078, 0.0028388 , 0.00224208,\n",
       "       0.00337495, 0.00245458, 0.00365783, 0.00697031, 0.00562655,\n",
       "       0.0046776 , 0.02017476, 0.00857491, 0.01028696, 0.00135936,\n",
       "       0.12031935, 0.26505482, 0.00191431, 0.00590076, 0.00305804,\n",
       "       0.00473357, 0.017034  , 0.01542555, 0.00270172, 0.00044589,\n",
       "       0.00458732, 0.01304952, 0.03313313, 0.00328595, 0.02126659,\n",
       "       0.00732963, 0.        , 0.00202061])"
      ]
     },
     "execution_count": 16,
     "metadata": {},
     "output_type": "execute_result"
    }
   ],
   "source": [
    "rf_clf.feature_importances_"
   ]
  },
  {
   "cell_type": "markdown",
   "id": "f661145f-436b-4878-9166-e16aafeaf739",
   "metadata": {},
   "source": [
    " * We can see that the random forest feature importances alone are not very informative:\n",
    "     * The total number of features is large\n",
    "     * Most features have fairly similar imprtance score.\n",
    "     * This \"general picture\" is not useful when one tries to analyze the EEG results of a specific sunbject"
   ]
  },
  {
   "cell_type": "markdown",
   "id": "a1bea48f-8d2d-4195-a166-ff6f48b10844",
   "metadata": {},
   "source": [
    "## Exploring Feature Importance with SHAP\n",
    "\n",
    " * Let's utilize the SHAP score, the way it is implemented in the `shap` library\n",
    " * SHAP score is based on a so called Shapley value. It is perhaps the most popular method of interpreting an ML model predictions. Its advantages are:\n",
    "     * Has a solid theoretical foundation (game theory)\n",
    "     * Allows contrastive explanations\n",
    "     * Model agnostic: can be applied to a broad variety of ML algorithms\n",
    "     * Local: Allows interpreting a specific prediction"
   ]
  },
  {
   "cell_type": "code",
   "execution_count": 17,
   "id": "d5badd1a-b859-4a07-b606-304a2d134032",
   "metadata": {},
   "outputs": [],
   "source": [
    "explainer = shap.TreeExplainer(rf_clf)\n",
    "shap_values = explainer.shap_values(X)\n"
   ]
  },
  {
   "cell_type": "code",
   "execution_count": 24,
   "id": "414deb4b-5a5f-4c66-8045-906f85bed36d",
   "metadata": {},
   "outputs": [
    {
     "data": {
      "image/png": "[encoded data removed]",
      "text/plain": [
       "<Figure size 800x950 with 1 Axes>"
      ]
     },
     "metadata": {},
     "output_type": "display_data"
    }
   ],
   "source": [
    "shap.summary_plot(shap_values, X_test)"
   ]
  },
  {
   "cell_type": "code",
   "execution_count": 46,
   "id": "19165d4c-f722-436f-a496-a8be9c4be2c5",
   "metadata": {
    "scrolled": true,
    "tags": []
   },
   "outputs": [],
   "source": [
    "# for name in X.columns:\n",
    "#     shap.dependence_plot(name, shap_values[1], X, display_features=X)"
   ]
  },
  {
   "cell_type": "markdown",
   "id": "38a99dc9-414c-4e0f-8726-4af4ef21ad4d",
   "metadata": {},
   "source": [
    "## Keeping the EEG-related features only"
   ]
  },
  {
   "cell_type": "code",
   "execution_count": 29,
   "id": "e674ac50-213f-46bf-b477-faa07eff3d21",
   "metadata": {},
   "outputs": [
    {
     "data": {
      "text/html": [
       "<div>\n",
       "<style scoped>\n",
       "    .dataframe tbody tr th:only-of-type {\n",
       "        vertical-align: middle;\n",
       "    }\n",
       "\n",
       "    .dataframe tbody tr th {\n",
       "        vertical-align: top;\n",
       "    }\n",
       "\n",
       "    .dataframe thead th {\n",
       "        text-align: right;\n",
       "    }\n",
       "</style>\n",
       "<table border=\"1\" class=\"dataframe\">\n",
       "  <thead>\n",
       "    <tr style=\"text-align: right;\">\n",
       "      <th></th>\n",
       "      <th>alpha_Channel_1</th>\n",
       "      <th>alpha_Channel_2</th>\n",
       "      <th>alpha_Channel_3</th>\n",
       "      <th>alpha_Channel_4</th>\n",
       "      <th>alpha_Channel_5</th>\n",
       "      <th>beta_Channel_1</th>\n",
       "      <th>beta_Channel_2</th>\n",
       "      <th>beta_Channel_3</th>\n",
       "      <th>beta_Channel_4</th>\n",
       "      <th>beta_Channel_5</th>\n",
       "      <th>...</th>\n",
       "      <th>xi_Channel_1</th>\n",
       "      <th>xi_Channel_2</th>\n",
       "      <th>xi_Channel_3</th>\n",
       "      <th>xi_Channel_4</th>\n",
       "      <th>xi_Channel_5</th>\n",
       "      <th>omega_Channel_1</th>\n",
       "      <th>omega_Channel_2</th>\n",
       "      <th>omega_Channel_3</th>\n",
       "      <th>omega_Channel_4</th>\n",
       "      <th>omega_Channel_5</th>\n",
       "    </tr>\n",
       "  </thead>\n",
       "  <tbody>\n",
       "    <tr>\n",
       "      <th>0</th>\n",
       "      <td>3.021524</td>\n",
       "      <td>1.396534</td>\n",
       "      <td>0.058007</td>\n",
       "      <td>0.126120</td>\n",
       "      <td>0.943253</td>\n",
       "      <td>1.697809</td>\n",
       "      <td>0.449966</td>\n",
       "      <td>0.448933</td>\n",
       "      <td>0.042286</td>\n",
       "      <td>0.503213</td>\n",
       "      <td>...</td>\n",
       "      <td>0.247654</td>\n",
       "      <td>0.823943</td>\n",
       "      <td>1.358286</td>\n",
       "      <td>0.028470</td>\n",
       "      <td>2.340824</td>\n",
       "      <td>2.188695</td>\n",
       "      <td>1.502521</td>\n",
       "      <td>1.382312</td>\n",
       "      <td>2.733212</td>\n",
       "      <td>0.729483</td>\n",
       "    </tr>\n",
       "    <tr>\n",
       "      <th>1</th>\n",
       "      <td>1.468518</td>\n",
       "      <td>1.367280</td>\n",
       "      <td>0.195930</td>\n",
       "      <td>0.273963</td>\n",
       "      <td>1.305134</td>\n",
       "      <td>0.679067</td>\n",
       "      <td>2.827446</td>\n",
       "      <td>3.364760</td>\n",
       "      <td>0.346790</td>\n",
       "      <td>0.202916</td>\n",
       "      <td>...</td>\n",
       "      <td>1.142864</td>\n",
       "      <td>0.227482</td>\n",
       "      <td>1.757748</td>\n",
       "      <td>0.091825</td>\n",
       "      <td>0.609705</td>\n",
       "      <td>1.224623</td>\n",
       "      <td>2.127467</td>\n",
       "      <td>0.590222</td>\n",
       "      <td>0.181941</td>\n",
       "      <td>0.795337</td>\n",
       "    </tr>\n",
       "    <tr>\n",
       "      <th>2</th>\n",
       "      <td>0.985983</td>\n",
       "      <td>1.177478</td>\n",
       "      <td>0.036685</td>\n",
       "      <td>0.289934</td>\n",
       "      <td>0.189099</td>\n",
       "      <td>0.137623</td>\n",
       "      <td>0.468998</td>\n",
       "      <td>3.133384</td>\n",
       "      <td>0.882983</td>\n",
       "      <td>1.953640</td>\n",
       "      <td>...</td>\n",
       "      <td>1.857042</td>\n",
       "      <td>2.100252</td>\n",
       "      <td>0.724515</td>\n",
       "      <td>1.128692</td>\n",
       "      <td>0.221561</td>\n",
       "      <td>0.164472</td>\n",
       "      <td>6.085616</td>\n",
       "      <td>1.059927</td>\n",
       "      <td>0.022024</td>\n",
       "      <td>1.387955</td>\n",
       "    </tr>\n",
       "    <tr>\n",
       "      <th>3</th>\n",
       "      <td>4.738183</td>\n",
       "      <td>0.139540</td>\n",
       "      <td>0.236183</td>\n",
       "      <td>0.789740</td>\n",
       "      <td>0.163361</td>\n",
       "      <td>0.707772</td>\n",
       "      <td>0.793514</td>\n",
       "      <td>2.799493</td>\n",
       "      <td>1.562262</td>\n",
       "      <td>0.158909</td>\n",
       "      <td>...</td>\n",
       "      <td>1.191103</td>\n",
       "      <td>0.899053</td>\n",
       "      <td>0.955767</td>\n",
       "      <td>0.989050</td>\n",
       "      <td>0.689679</td>\n",
       "      <td>0.094675</td>\n",
       "      <td>2.925617</td>\n",
       "      <td>0.703198</td>\n",
       "      <td>0.101002</td>\n",
       "      <td>0.093286</td>\n",
       "    </tr>\n",
       "    <tr>\n",
       "      <th>4</th>\n",
       "      <td>0.975364</td>\n",
       "      <td>1.393986</td>\n",
       "      <td>0.661216</td>\n",
       "      <td>0.028347</td>\n",
       "      <td>0.372354</td>\n",
       "      <td>1.112621</td>\n",
       "      <td>3.872213</td>\n",
       "      <td>1.441918</td>\n",
       "      <td>0.827960</td>\n",
       "      <td>1.879537</td>\n",
       "      <td>...</td>\n",
       "      <td>0.703250</td>\n",
       "      <td>0.637318</td>\n",
       "      <td>1.238808</td>\n",
       "      <td>0.253462</td>\n",
       "      <td>2.351435</td>\n",
       "      <td>1.111522</td>\n",
       "      <td>4.476291</td>\n",
       "      <td>0.623993</td>\n",
       "      <td>0.023572</td>\n",
       "      <td>0.279170</td>\n",
       "    </tr>\n",
       "  </tbody>\n",
       "</table>\n",
       "<p>5 rows × 100 columns</p>\n",
       "</div>"
      ],
      "text/plain": [
       "   alpha_Channel_1  alpha_Channel_2  alpha_Channel_3  alpha_Channel_4  \\\n",
       "0         3.021524         1.396534         0.058007         0.126120   \n",
       "1         1.468518         1.367280         0.195930         0.273963   \n",
       "2         0.985983         1.177478         0.036685         0.289934   \n",
       "3         4.738183         0.139540         0.236183         0.789740   \n",
       "4         0.975364         1.393986         0.661216         0.028347   \n",
       "\n",
       "   alpha_Channel_5  beta_Channel_1  beta_Channel_2  beta_Channel_3  \\\n",
       "0         0.943253        1.697809        0.449966        0.448933   \n",
       "1         1.305134        0.679067        2.827446        3.364760   \n",
       "2         0.189099        0.137623        0.468998        3.133384   \n",
       "3         0.163361        0.707772        0.793514        2.799493   \n",
       "4         0.372354        1.112621        3.872213        1.441918   \n",
       "\n",
       "   beta_Channel_4  beta_Channel_5  ...  xi_Channel_1  xi_Channel_2  \\\n",
       "0        0.042286        0.503213  ...      0.247654      0.823943   \n",
       "1        0.346790        0.202916  ...      1.142864      0.227482   \n",
       "2        0.882983        1.953640  ...      1.857042      2.100252   \n",
       "3        1.562262        0.158909  ...      1.191103      0.899053   \n",
       "4        0.827960        1.879537  ...      0.703250      0.637318   \n",
       "\n",
       "   xi_Channel_3  xi_Channel_4  xi_Channel_5  omega_Channel_1  omega_Channel_2  \\\n",
       "0      1.358286      0.028470      2.340824         2.188695         1.502521   \n",
       "1      1.757748      0.091825      0.609705         1.224623         2.127467   \n",
       "2      0.724515      1.128692      0.221561         0.164472         6.085616   \n",
       "3      0.955767      0.989050      0.689679         0.094675         2.925617   \n",
       "4      1.238808      0.253462      2.351435         1.111522         4.476291   \n",
       "\n",
       "   omega_Channel_3  omega_Channel_4  omega_Channel_5  \n",
       "0         1.382312         2.733212         0.729483  \n",
       "1         0.590222         0.181941         0.795337  \n",
       "2         1.059927         0.022024         1.387955  \n",
       "3         0.703198         0.101002         0.093286  \n",
       "4         0.623993         0.023572         0.279170  \n",
       "\n",
       "[5 rows x 100 columns]"
      ]
     },
     "execution_count": 29,
     "metadata": {},
     "output_type": "execute_result"
    }
   ],
   "source": [
    "health_cond_cols = [c for c in X.columns if c.startswith('health_condition')]\n",
    "drop_non_eeg_cols = ['age_years', 'Had_psychiatrist_followup_int'] + health_cond_cols\n",
    "X_eeg = X.drop(columns=drop_non_eeg_cols)\n",
    "X_eeg.head()"
   ]
  },
  {
   "cell_type": "markdown",
   "id": "03391a18-2143-4df8-afd8-27d29764a231",
   "metadata": {},
   "source": [
    "### Random Forest"
   ]
  },
  {
   "cell_type": "code",
   "execution_count": 30,
   "id": "e7e42d2c-b61e-4a36-adca-7c97ee97c4d0",
   "metadata": {},
   "outputs": [
    {
     "name": "stdout",
     "output_type": "stream",
     "text": [
      "0.711213282247765\n"
     ]
    }
   ],
   "source": [
    "num_trees = 100\n",
    "rf_clf = RandomForestClassifier(n_estimators=num_trees)\n",
    "results = cross_val_score(rf_clf, X_eeg, y.values.reshape(y.shape[0],), cv = kfold, scoring=f1_scorer)\n",
    "print(results.mean())"
   ]
  },
  {
   "cell_type": "code",
   "execution_count": 31,
   "id": "b8673d9e-01c2-45a0-b2fe-59aa2da0189b",
   "metadata": {},
   "outputs": [
    {
     "data": {
      "text/plain": [
       "array([0.73333333, 0.62962963, 0.66666667, 0.79310345, 0.73333333])"
      ]
     },
     "execution_count": 31,
     "metadata": {},
     "output_type": "execute_result"
    }
   ],
   "source": [
    "results"
   ]
  },
  {
   "cell_type": "markdown",
   "id": "93bb5a4b-ff45-4a0b-b6d7-d4191b0dcb11",
   "metadata": {},
   "source": [
    "### AdaBoost"
   ]
  },
  {
   "cell_type": "code",
   "execution_count": 37,
   "id": "3ad19f7f-e082-4947-ae05-7e60a02418f5",
   "metadata": {},
   "outputs": [
    {
     "name": "stdout",
     "output_type": "stream",
     "text": [
      "0.5940148749154835\n"
     ]
    }
   ],
   "source": [
    "\n",
    "kfold = KFold(n_splits = 5, random_state = seed, shuffle=True)\n",
    "num_trees = 250\n",
    "max_features = 70\n",
    "ADBclf = AdaBoostClassifier(n_estimators = num_trees)\n",
    "results = cross_val_score(ADBclf, X_eeg, y.values.reshape(y.shape[0],), cv = kfold, scoring=f1_scorer)\n",
    "print(results.mean())"
   ]
  },
  {
   "cell_type": "code",
   "execution_count": 38,
   "id": "4553e42d-129e-422f-bb84-b06dda59d1f8",
   "metadata": {},
   "outputs": [
    {
     "data": {
      "text/plain": [
       "array([0.65517241, 0.5       , 0.58823529, 0.66666667, 0.56      ])"
      ]
     },
     "execution_count": 38,
     "metadata": {},
     "output_type": "execute_result"
    }
   ],
   "source": [
    "results"
   ]
  },
  {
   "cell_type": "markdown",
   "id": "2c2250db-0472-45e4-866d-750b18d6a29b",
   "metadata": {},
   "source": [
    "### Train/Fit a Random Forest"
   ]
  },
  {
   "cell_type": "code",
   "execution_count": 42,
   "id": "1e59b595-ad3a-4551-9481-7ed1945acc2b",
   "metadata": {},
   "outputs": [],
   "source": [
    "X_train, X_test, y_train, y_test = train_test_split(X_eeg, y.values.reshape(y.shape[0],), \n",
    "                                                    test_size=0.20, random_state=seed)"
   ]
  },
  {
   "cell_type": "code",
   "execution_count": 43,
   "id": "efae64c7-0478-4e44-b688-705504f0045a",
   "metadata": {},
   "outputs": [
    {
     "data": {
      "text/plain": [
       "RandomForestClassifier(n_estimators=250)"
      ]
     },
     "execution_count": 43,
     "metadata": {},
     "output_type": "execute_result"
    }
   ],
   "source": [
    "rf_clf = RandomForestClassifier(n_estimators=num_trees)\n",
    "rf_clf.fit(X_train, y_train)"
   ]
  },
  {
   "cell_type": "markdown",
   "id": "74a62d49-899e-407e-87fb-ec2fdf71a7c4",
   "metadata": {},
   "source": [
    "### EEG-Only: Feature Importance with SHAP"
   ]
  },
  {
   "cell_type": "code",
   "execution_count": 44,
   "id": "fd86196c-d640-4f36-b0ce-701276eb2dfb",
   "metadata": {},
   "outputs": [],
   "source": [
    "explainer = shap.TreeExplainer(rf_clf)\n",
    "shap_values = explainer.shap_values(X_eeg)\n"
   ]
  },
  {
   "cell_type": "code",
   "execution_count": 45,
   "id": "aa7f303c-f47a-4dfe-8d74-4fa99f19d1ed",
   "metadata": {},
   "outputs": [
    {
     "data": {
      "image/png": "[encoded data removed]",
      "text/plain": [
       "<Figure size 800x950 with 1 Axes>"
      ]
     },
     "metadata": {},
     "output_type": "display_data"
    }
   ],
   "source": [
    "shap.summary_plot(shap_values, X_test)"
   ]
  }
 ],
 "metadata": {
  "kernelspec": {
   "display_name": "Python 3 (ipykernel)",
   "language": "python",
   "name": "python3"
  },
  "language_info": {
   "codemirror_mode": {
    "name": "ipython",
    "version": 3
   },
   "file_extension": ".py",
   "mimetype": "text/x-python",
   "name": "python",
   "nbconvert_exporter": "python",
   "pygments_lexer": "ipython3",
   "version": "3.10.4"
  }
 },
 "nbformat": 4,
 "nbformat_minor": 5
}
